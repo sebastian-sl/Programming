{
 "cells": [
  {
   "cell_type": "code",
   "execution_count": 2,
   "metadata": {},
   "outputs": [
    {
     "name": "stdout",
     "output_type": "stream",
     "text": [
      "Initial:    [9, 5, 8, 1, 3, 5, 9]\n",
      "np sort:    [1, 3, 5, 5, 8, 9, 9]\n",
      "recursive:  [1, 3, 5, 5, 8, 9, 9]\n",
      "iterative:  [1, 3, 5, 5, 8, 9, 9]\n"
     ]
    }
   ],
   "source": [
    "import numpy as np\n",
    "\n",
    "array = [9,5,8,1,3,5,9]\n",
    "\n",
    "def sort_recursive(myArr,n):\n",
    "    if n >= 0:\n",
    "        for a in range(0,n-1):\n",
    "            if myArr[a] > myArr[a+1]:\n",
    "                holdingVar = myArr[a+1]\n",
    "\n",
    "                myArr[a+1] = myArr[a]\n",
    "                myArr[a] = holdingVar\n",
    "\n",
    "        sort_recursive(myArr,n-1)\n",
    "\n",
    "    return(myArr)\n",
    "\n",
    "def sort_iterative(myArr):\n",
    "    for i in range(len(myArr),0,-1):\n",
    "        for j in range(0,len(myArr)-1):\n",
    "            if myArr[j] > myArr[j+1]:\n",
    "                holding = myArr[j+1]\n",
    "\n",
    "                myArr[j+1] = myArr[j]\n",
    "                myArr[j] = holding\n",
    "\n",
    "    return(myArr)\n",
    "\n",
    "print(\"Initial:   \", array)\n",
    "print('np sort:   ', list(np.sort(array)))\n",
    "print(\"recursive: \", sort_recursive(array,len(array)))\n",
    "print(\"iterative: \", sort_iterative(array))"
   ]
  },
  {
   "cell_type": "code",
   "execution_count": null,
   "metadata": {},
   "outputs": [],
   "source": []
  }
 ],
 "metadata": {
  "kernelspec": {
   "display_name": "Python 3",
   "language": "python",
   "name": "python3"
  },
  "language_info": {
   "codemirror_mode": {
    "name": "ipython",
    "version": 3
   },
   "file_extension": ".py",
   "mimetype": "text/x-python",
   "name": "python",
   "nbconvert_exporter": "python",
   "pygments_lexer": "ipython3",
   "version": "3.9.0"
  }
 },
 "nbformat": 4,
 "nbformat_minor": 4
}
